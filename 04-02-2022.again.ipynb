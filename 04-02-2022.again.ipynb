{
 "cells": [
  {
   "cell_type": "code",
   "execution_count": 2,
   "id": "67d958a0",
   "metadata": {},
   "outputs": [
    {
     "name": "stdout",
     "output_type": "stream",
     "text": [
      "[2, 6, 9, 20, 'apple']\n",
      "['gopi', 'nani', 67, 9, 34, 59, 27]\n",
      "[2, 4, 6, 'sdc']\n"
     ]
    }
   ],
   "source": [
    "li=[2,6,9,20,'apple']\n",
    "li1=['gopi','nani',67,9,34,59,27]\n",
    "li2=[2,4,6,'sdc']\n",
    "print(li)\n",
    "print(li1)\n",
    "print(li2)"
   ]
  },
  {
   "cell_type": "code",
   "execution_count": 3,
   "id": "8cb9d7ce",
   "metadata": {},
   "outputs": [
    {
     "name": "stdout",
     "output_type": "stream",
     "text": [
      "[2, 6, 9, 20, 'apple']\n"
     ]
    }
   ],
   "source": [
    "# append- we will add only single value\n",
    "# extend- we will add more than one value using extend\n",
    "print(li)"
   ]
  },
  {
   "cell_type": "code",
   "execution_count": 5,
   "id": "c7b97e33",
   "metadata": {},
   "outputs": [
    {
     "data": {
      "text/plain": [
       "[2, 6, 9, 20, 'apple', 77, 77]"
      ]
     },
     "execution_count": 5,
     "metadata": {},
     "output_type": "execute_result"
    }
   ],
   "source": [
    "li.append(77)\n",
    "li"
   ]
  },
  {
   "cell_type": "code",
   "execution_count": 6,
   "id": "041d0b9d",
   "metadata": {},
   "outputs": [
    {
     "data": {
      "text/plain": [
       "[2, 6, 9, 20, 'apple', 77, 77, 2, 3, 4]"
      ]
     },
     "execution_count": 6,
     "metadata": {},
     "output_type": "execute_result"
    }
   ],
   "source": [
    "li.extend([2,3,4,])\n",
    "li"
   ]
  },
  {
   "cell_type": "code",
   "execution_count": 7,
   "id": "659d64af",
   "metadata": {},
   "outputs": [
    {
     "name": "stdout",
     "output_type": "stream",
     "text": [
      "[1, 2, 3, 4, 5, 6]\n"
     ]
    }
   ],
   "source": [
    "li=[1,2,3,4,5,6]\n",
    "li.pop\n",
    "print(li)"
   ]
  },
  {
   "cell_type": "code",
   "execution_count": 8,
   "id": "8c99dd6e",
   "metadata": {},
   "outputs": [
    {
     "name": "stdout",
     "output_type": "stream",
     "text": [
      "[6, 5, 4, 3, 2, 1]\n"
     ]
    }
   ],
   "source": [
    "li.reverse()\n",
    "print(li)"
   ]
  },
  {
   "cell_type": "code",
   "execution_count": 11,
   "id": "e19a864a",
   "metadata": {},
   "outputs": [
    {
     "name": "stdout",
     "output_type": "stream",
     "text": [
      "[1, 2, 3, 4, 5, 6]\n"
     ]
    }
   ],
   "source": [
    "li.sort()\n",
    "print(li)"
   ]
  },
  {
   "cell_type": "code",
   "execution_count": 13,
   "id": "91a8f034",
   "metadata": {},
   "outputs": [
    {
     "data": {
      "text/plain": [
       "[1, 2, 3, 'six', 4, 5, 6]"
      ]
     },
     "execution_count": 13,
     "metadata": {},
     "output_type": "execute_result"
    }
   ],
   "source": [
    "li=[1,2,3,4,5,6]\n",
    "li.insert(3,'six')\n",
    "li"
   ]
  },
  {
   "cell_type": "code",
   "execution_count": 15,
   "id": "6c41ea2c",
   "metadata": {},
   "outputs": [
    {
     "name": "stdout",
     "output_type": "stream",
     "text": [
      "[0, 2, 4, 6, 8, 10]\n",
      "[1, 3, 5, 7, 9]\n",
      "[0, 2, 4, 6, 8, 10, 1, 3, 5, 7, 9]\n"
     ]
    }
   ],
   "source": [
    "# 0-10 range\n",
    "# program\n",
    "# print even numbers\n",
    "# print odd numbers\n",
    "# print result (total numbers(0-10))\n",
    "even=[]\n",
    "odd=[]\n",
    "result=[]\n",
    "for i in range(0,11):\n",
    "    if i%2==0:\n",
    "        even.append(i)\n",
    "    else:\n",
    "        odd.append(i)\n",
    "print(even)\n",
    "print(odd)\n",
    "print(even+odd)"
   ]
  },
  {
   "cell_type": "code",
   "execution_count": 17,
   "id": "7811c7c7",
   "metadata": {},
   "outputs": [
    {
     "name": "stdout",
     "output_type": "stream",
     "text": [
      "\n",
      "Largest number: 567\n"
     ]
    }
   ],
   "source": [
    "si=[34,78,37,90,204,400,45,567]\n",
    "# print largest value\n",
    "high=0\n",
    "for i in si:\n",
    "    if i>=high:\n",
    "        high=i\n",
    "print(\"\\nLargest number:\",high)        "
   ]
  },
  {
   "cell_type": "markdown",
   "id": "c937610d",
   "metadata": {},
   "source": [
    "### tuble\n",
    "- tuple represented"
   ]
  },
  {
   "cell_type": "code",
   "execution_count": 18,
   "id": "7fda1902",
   "metadata": {},
   "outputs": [],
   "source": [
    "t=(1,2,2,5,7,8)"
   ]
  },
  {
   "cell_type": "code",
   "execution_count": 19,
   "id": "be65d3ff",
   "metadata": {},
   "outputs": [
    {
     "name": "stdout",
     "output_type": "stream",
     "text": [
      "<class 'tuple'>\n"
     ]
    }
   ],
   "source": [
    "print(type(t))"
   ]
  },
  {
   "cell_type": "code",
   "execution_count": 20,
   "id": "1d8ae68d",
   "metadata": {},
   "outputs": [
    {
     "data": {
      "text/plain": [
       "['__add__',\n",
       " '__class__',\n",
       " '__class_getitem__',\n",
       " '__contains__',\n",
       " '__delattr__',\n",
       " '__dir__',\n",
       " '__doc__',\n",
       " '__eq__',\n",
       " '__format__',\n",
       " '__ge__',\n",
       " '__getattribute__',\n",
       " '__getitem__',\n",
       " '__getnewargs__',\n",
       " '__gt__',\n",
       " '__hash__',\n",
       " '__init__',\n",
       " '__init_subclass__',\n",
       " '__iter__',\n",
       " '__le__',\n",
       " '__len__',\n",
       " '__lt__',\n",
       " '__mul__',\n",
       " '__ne__',\n",
       " '__new__',\n",
       " '__reduce__',\n",
       " '__reduce_ex__',\n",
       " '__repr__',\n",
       " '__rmul__',\n",
       " '__setattr__',\n",
       " '__sizeof__',\n",
       " '__str__',\n",
       " '__subclasshook__',\n",
       " 'count',\n",
       " 'index']"
      ]
     },
     "execution_count": 20,
     "metadata": {},
     "output_type": "execute_result"
    }
   ],
   "source": [
    "dir(tuple)"
   ]
  },
  {
   "cell_type": "code",
   "execution_count": 21,
   "id": "0e72d63d",
   "metadata": {},
   "outputs": [
    {
     "data": {
      "text/plain": [
       "2"
      ]
     },
     "execution_count": 21,
     "metadata": {},
     "output_type": "execute_result"
    }
   ],
   "source": [
    "t.count(2)"
   ]
  },
  {
   "cell_type": "code",
   "execution_count": 23,
   "id": "b8d17c86",
   "metadata": {},
   "outputs": [
    {
     "data": {
      "text/plain": [
       "1"
      ]
     },
     "execution_count": 23,
     "metadata": {},
     "output_type": "execute_result"
    }
   ],
   "source": [
    "t.index(2)"
   ]
  },
  {
   "cell_type": "markdown",
   "id": "84158914",
   "metadata": {},
   "source": [
    "### set\n",
    "- set is repersented with {}"
   ]
  },
  {
   "cell_type": "code",
   "execution_count": 24,
   "id": "d8a4f542",
   "metadata": {},
   "outputs": [
    {
     "name": "stdout",
     "output_type": "stream",
     "text": [
      "<class 'set'>\n"
     ]
    }
   ],
   "source": [
    "s={1,2,5,68,9,60}\n",
    "print(type(s))"
   ]
  },
  {
   "cell_type": "code",
   "execution_count": 26,
   "id": "a178d5e9",
   "metadata": {},
   "outputs": [
    {
     "data": {
      "text/plain": [
       "set"
      ]
     },
     "execution_count": 26,
     "metadata": {},
     "output_type": "execute_result"
    }
   ],
   "source": [
    "li=[2,4,7,9,30]\n",
    "t=(3,5,7,3,4)\n",
    "s={3,6,80,20}\n",
    "type(li)\n",
    "type(t)\n",
    "type(s)"
   ]
  },
  {
   "cell_type": "code",
   "execution_count": 30,
   "id": "2f1269fe",
   "metadata": {},
   "outputs": [
    {
     "ename": "NameError",
     "evalue": "name 'fgj' is not defined",
     "output_type": "error",
     "traceback": [
      "\u001b[1;31m---------------------------------------------------------------------------\u001b[0m",
      "\u001b[1;31mNameError\u001b[0m                                 Traceback (most recent call last)",
      "\u001b[1;32m~\\AppData\\Local\\Temp/ipykernel_3676/197475644.py\u001b[0m in \u001b[0;36m<module>\u001b[1;34m\u001b[0m\n\u001b[1;32m----> 1\u001b[1;33m \u001b[0mfgj\u001b[0m\u001b[1;33m\u001b[0m\u001b[1;33m\u001b[0m\u001b[0m\n\u001b[0m",
      "\u001b[1;31mNameError\u001b[0m: name 'fgj' is not defined"
     ]
    }
   ],
   "source": [
    "fgj"
   ]
  },
  {
   "cell_type": "code",
   "execution_count": 27,
   "id": "3b633e78",
   "metadata": {},
   "outputs": [
    {
     "name": "stdout",
     "output_type": "stream",
     "text": [
      "length of list: 5\n",
      "length of tupla: 5\n",
      "length of set: 4\n"
     ]
    }
   ],
   "source": [
    "print(\"length of list:\",len(li))\n",
    "print(\"length of tupla:\",len(t))\n",
    "print(\"length of set:\",len(s))"
   ]
  },
  {
   "cell_type": "code",
   "execution_count": 28,
   "id": "a93d436f",
   "metadata": {},
   "outputs": [
    {
     "name": "stdout",
     "output_type": "stream",
     "text": [
      "{80, 3, 20, 6}\n"
     ]
    }
   ],
   "source": [
    "print(s)"
   ]
  },
  {
   "cell_type": "code",
   "execution_count": 29,
   "id": "cb5747e3",
   "metadata": {},
   "outputs": [
    {
     "name": "stdout",
     "output_type": "stream",
     "text": [
      "[2, 4, 7, 9, 30]\n"
     ]
    }
   ],
   "source": [
    "print(li)"
   ]
  },
  {
   "cell_type": "code",
   "execution_count": 32,
   "id": "3b1a53c0",
   "metadata": {},
   "outputs": [
    {
     "name": "stdout",
     "output_type": "stream",
     "text": [
      "{'peacock', 'lion', 'fox', 'cat', 'dog'}\n"
     ]
    }
   ],
   "source": [
    "s={'fox','cat','dog','lion','peacock',}\n",
    "print(s)"
   ]
  },
  {
   "cell_type": "code",
   "execution_count": 35,
   "id": "76418673",
   "metadata": {},
   "outputs": [
    {
     "name": "stdout",
     "output_type": "stream",
     "text": [
      "{'peacock', 'lion', 'fox', 'cat', 'dog', 'tiger'}\n"
     ]
    }
   ],
   "source": [
    "s.add('tiger')\n",
    "print(s)"
   ]
  },
  {
   "cell_type": "code",
   "execution_count": 36,
   "id": "cc25809e",
   "metadata": {},
   "outputs": [
    {
     "name": "stdout",
     "output_type": "stream",
     "text": [
      "{1, 'lion', 2, 3, 4, 'dog', 'peacock', 'tiger', 'fox', 'cat'}\n"
     ]
    }
   ],
   "source": [
    "# update- to add multiple elements at a time in set\n",
    "s.update((1,2,3,4))\n",
    "print(s)"
   ]
  },
  {
   "cell_type": "markdown",
   "id": "29a04ea6",
   "metadata": {},
   "source": [
    "### deletion\n",
    "- clear()- to clear the all data\n",
    "- remove()- it is used to remove a particular value\n",
    "- discard()- it is also used to discard a particular value\n",
    "- pop()- to delete random elements"
   ]
  },
  {
   "cell_type": "code",
   "execution_count": 39,
   "id": "a65faac5",
   "metadata": {},
   "outputs": [
    {
     "name": "stdout",
     "output_type": "stream",
     "text": [
      "{'lion', 'fox', 'cat', 'dog', 'peacoak'}\n"
     ]
    }
   ],
   "source": [
    "s={'fox','cat','dog','lion','peacoak'}\n",
    "print(s)"
   ]
  },
  {
   "cell_type": "code",
   "execution_count": 41,
   "id": "61e14b39",
   "metadata": {},
   "outputs": [],
   "source": [
    "s.remove(('cat'))"
   ]
  },
  {
   "cell_type": "code",
   "execution_count": 42,
   "id": "bd9bfed7",
   "metadata": {},
   "outputs": [
    {
     "data": {
      "text/plain": [
       "{'dog', 'fox', 'lion', 'peacoak'}"
      ]
     },
     "execution_count": 42,
     "metadata": {},
     "output_type": "execute_result"
    }
   ],
   "source": [
    "s"
   ]
  },
  {
   "cell_type": "code",
   "execution_count": 43,
   "id": "20a5174e",
   "metadata": {},
   "outputs": [
    {
     "name": "stdout",
     "output_type": "stream",
     "text": [
      "{'fox', 'dog', 'peacoak'}\n"
     ]
    }
   ],
   "source": [
    "s.discard('lion')\n",
    "print(s)"
   ]
  },
  {
   "cell_type": "code",
   "execution_count": 44,
   "id": "2b4ad003",
   "metadata": {},
   "outputs": [
    {
     "data": {
      "text/plain": [
       "'fox'"
      ]
     },
     "execution_count": 44,
     "metadata": {},
     "output_type": "execute_result"
    }
   ],
   "source": [
    "s.pop()"
   ]
  },
  {
   "cell_type": "markdown",
   "id": "15a9f914",
   "metadata": {},
   "source": [
    "### set operations\n",
    "- union:combinations all elemnts from two sets\n",
    "- intersection:common elements from two sets\n",
    "- difference: all the remaining elements from a set after removing common elemnts\n",
    "- symetric-differene: uncommon elements from both sets    "
   ]
  },
  {
   "cell_type": "code",
   "execution_count": 46,
   "id": "a72bd680",
   "metadata": {},
   "outputs": [
    {
     "name": "stdout",
     "output_type": "stream",
     "text": [
      "{1, 2, 3, 4, 5, 7, 9, 10}\n"
     ]
    }
   ],
   "source": [
    "a={2,5,7,9,4,2,9}\n",
    "b={4,7,9,3,1,10,3}\n",
    "print(a.union(b))"
   ]
  },
  {
   "cell_type": "code",
   "execution_count": 47,
   "id": "59d2e5a5",
   "metadata": {},
   "outputs": [
    {
     "name": "stdout",
     "output_type": "stream",
     "text": [
      "{2, 4, 5, 7, 9}\n"
     ]
    }
   ],
   "source": [
    "print(a)"
   ]
  },
  {
   "cell_type": "code",
   "execution_count": 48,
   "id": "e93d924c",
   "metadata": {},
   "outputs": [
    {
     "name": "stdout",
     "output_type": "stream",
     "text": [
      "{1, 3, 4, 7, 9, 10}\n"
     ]
    }
   ],
   "source": [
    "print(b)"
   ]
  },
  {
   "cell_type": "code",
   "execution_count": 49,
   "id": "d1903fcd",
   "metadata": {},
   "outputs": [
    {
     "name": "stdout",
     "output_type": "stream",
     "text": [
      "{9, 4, 7}\n"
     ]
    }
   ],
   "source": [
    "print(a.intersection(b))"
   ]
  },
  {
   "cell_type": "code",
   "execution_count": 57,
   "id": "637ce289",
   "metadata": {},
   "outputs": [
    {
     "name": "stdout",
     "output_type": "stream",
     "text": [
      "{1, 10, 3}\n"
     ]
    }
   ],
   "source": [
    "print(b.difference(a))"
   ]
  },
  {
   "cell_type": "code",
   "execution_count": 58,
   "id": "5b29dc90",
   "metadata": {},
   "outputs": [
    {
     "name": "stdout",
     "output_type": "stream",
     "text": [
      "{1, 2, 3, 5, 10}\n"
     ]
    }
   ],
   "source": [
    "print(a.symmetric_difference(b))"
   ]
  },
  {
   "cell_type": "code",
   "execution_count": 59,
   "id": "651a69fa",
   "metadata": {},
   "outputs": [
    {
     "name": "stdout",
     "output_type": "stream",
     "text": [
      "{8, 2, 4, 6}\n"
     ]
    }
   ],
   "source": [
    "a={2,4,6,8}\n",
    "a1=a.copy()\n",
    "print(a1)"
   ]
  },
  {
   "cell_type": "code",
   "execution_count": 61,
   "id": "eb1c2f3a",
   "metadata": {},
   "outputs": [
    {
     "name": "stdout",
     "output_type": "stream",
     "text": [
      "True\n",
      "True\n"
     ]
    }
   ],
   "source": [
    "m={1,2,3,4,5,6}\n",
    "n={3,6}\n",
    "print(n.issubset(m))\n",
    "print(m.issuperset(n))"
   ]
  },
  {
   "cell_type": "code",
   "execution_count": 62,
   "id": "3e2714b4",
   "metadata": {},
   "outputs": [
    {
     "data": {
      "text/plain": [
       "True"
      ]
     },
     "execution_count": 62,
     "metadata": {},
     "output_type": "execute_result"
    }
   ],
   "source": [
    "l={4,5,6,7}\n",
    "p={1,2,3}\n",
    "l.isdisjoint(p)"
   ]
  },
  {
   "cell_type": "code",
   "execution_count": 63,
   "id": "e5518176",
   "metadata": {},
   "outputs": [
    {
     "name": "stdout",
     "output_type": "stream",
     "text": [
      "None\n"
     ]
    }
   ],
   "source": [
    "p={10,20,30,40}\n",
    "q={40,50,60,70}\n",
    "print(p.difference_update(q))"
   ]
  },
  {
   "cell_type": "code",
   "execution_count": 64,
   "id": "ab092930",
   "metadata": {},
   "outputs": [
    {
     "name": "stdout",
     "output_type": "stream",
     "text": [
      "{10, 20, 30}\n",
      "{40, 50, 60, 70}\n"
     ]
    }
   ],
   "source": [
    "print(p)\n",
    "print(q)"
   ]
  },
  {
   "cell_type": "markdown",
   "id": "d22c99e2",
   "metadata": {},
   "source": [
    "### dictionaries\n",
    "- dictionaries is an unordered collaction of items\n",
    "- each item of dictionary has a key and value pair:::{key:value}\n",
    "- dictionary is mutable and changable\n",
    "- in python dictionary written in{}\n",
    "- keys are not allow dupliacte values\n",
    "- values are allowed to duplicate values\n",
    "- entire dictionary depanding upon key\n",
    "     - keys  are unique in nature\n",
    "     - keys can be written in any data type\n",
    "- value maybe similar to values,mentioned as any datatypes\n",
    "- key and value together called as a item\n",
    "- in dictionary indexing is not supported\n",
    "\n"
   ]
  },
  {
   "cell_type": "code",
   "execution_count": 65,
   "id": "62f6f796",
   "metadata": {},
   "outputs": [
    {
     "name": "stdout",
     "output_type": "stream",
     "text": [
      "<class 'dict'>\n"
     ]
    }
   ],
   "source": [
    "d={}\n",
    "print(type(d))"
   ]
  },
  {
   "cell_type": "code",
   "execution_count": 70,
   "id": "797feb12",
   "metadata": {},
   "outputs": [
    {
     "data": {
      "text/plain": [
       "{34: 45, 89: 56, 90: 56}"
      ]
     },
     "execution_count": 70,
     "metadata": {},
     "output_type": "execute_result"
    }
   ],
   "source": [
    "d={34: 45, 89:56,90:56,34:45}# key cant mention duplication\n",
    "d"
   ]
  },
  {
   "cell_type": "code",
   "execution_count": 69,
   "id": "967d8ec7",
   "metadata": {},
   "outputs": [
    {
     "name": "stdout",
     "output_type": "stream",
     "text": [
      "213\n",
      "90\n",
      "34\n",
      "3\n",
      "[34, 89, 90]\n"
     ]
    }
   ],
   "source": [
    "print(sum(d))\n",
    "print(max(d))\n",
    "print(min(d))\n",
    "print(len(d))\n",
    "print(sorted(d))"
   ]
  },
  {
   "cell_type": "code",
   "execution_count": 72,
   "id": "3dce67d1",
   "metadata": {},
   "outputs": [
    {
     "name": "stdout",
     "output_type": "stream",
     "text": [
      "{23: 67, 34: {34, 90, 78}, 67: 123, 45: 78}\n"
     ]
    }
   ],
   "source": [
    "d1={23:67,34:12,67:123,45:78,34:{34,78,90}}\n",
    "print(d1)"
   ]
  },
  {
   "cell_type": "code",
   "execution_count": 73,
   "id": "0dec71d9",
   "metadata": {},
   "outputs": [
    {
     "data": {
      "text/plain": [
       "{34, 78, 90}"
      ]
     },
     "execution_count": 73,
     "metadata": {},
     "output_type": "execute_result"
    }
   ],
   "source": [
    "d1[34]"
   ]
  },
  {
   "cell_type": "code",
   "execution_count": 74,
   "id": "98c1b462",
   "metadata": {},
   "outputs": [
    {
     "data": {
      "text/plain": [
       "{34, 78, 90}"
      ]
     },
     "execution_count": 74,
     "metadata": {},
     "output_type": "execute_result"
    }
   ],
   "source": [
    "d1.get(34)"
   ]
  },
  {
   "cell_type": "code",
   "execution_count": 75,
   "id": "fbbfd459",
   "metadata": {},
   "outputs": [
    {
     "data": {
      "text/plain": [
       "dict_keys([23, 34, 67, 45])"
      ]
     },
     "execution_count": 75,
     "metadata": {},
     "output_type": "execute_result"
    }
   ],
   "source": [
    "d1.keys()"
   ]
  },
  {
   "cell_type": "code",
   "execution_count": 77,
   "id": "327ff77c",
   "metadata": {},
   "outputs": [
    {
     "data": {
      "text/plain": [
       "dict_values([67, {34, 90, 78}, 123, 78])"
      ]
     },
     "execution_count": 77,
     "metadata": {},
     "output_type": "execute_result"
    }
   ],
   "source": [
    "d1.values()"
   ]
  },
  {
   "cell_type": "code",
   "execution_count": 79,
   "id": "278c29fa",
   "metadata": {},
   "outputs": [
    {
     "data": {
      "text/plain": [
       "{23: 67, 34: {34, 78, 90}, 67: 123, 45: 78}"
      ]
     },
     "execution_count": 79,
     "metadata": {},
     "output_type": "execute_result"
    }
   ],
   "source": [
    "d1.items()\n",
    "d1"
   ]
  },
  {
   "cell_type": "code",
   "execution_count": 80,
   "id": "2d3168dc",
   "metadata": {},
   "outputs": [
    {
     "name": "stdout",
     "output_type": "stream",
     "text": [
      "{23: 67, 34: {34, 90, 78}, 67: 123, 45: 78}\n",
      "{23: 67, 34: {34, 90, 78}, 67: 123, 45: 78}\n"
     ]
    }
   ],
   "source": [
    "d2=d1.copy()\n",
    "print(d2)\n",
    "print(d1)"
   ]
  },
  {
   "cell_type": "code",
   "execution_count": 81,
   "id": "d73cd9e0",
   "metadata": {},
   "outputs": [
    {
     "data": {
      "text/plain": [
       "{'w': None, 'o': None, 'r': None, 'k': None}"
      ]
     },
     "execution_count": 81,
     "metadata": {},
     "output_type": "execute_result"
    }
   ],
   "source": [
    "d2.fromkeys(\"work\")"
   ]
  },
  {
   "cell_type": "code",
   "execution_count": 82,
   "id": "297427f2",
   "metadata": {},
   "outputs": [
    {
     "data": {
      "text/plain": [
       "{'p': 45, 'y': 45, 't': 45, 'h': 45, 'o': 45, 'n': 45}"
      ]
     },
     "execution_count": 82,
     "metadata": {},
     "output_type": "execute_result"
    }
   ],
   "source": [
    "d2.fromkeys('python',45)"
   ]
  },
  {
   "cell_type": "code",
   "execution_count": 83,
   "id": "f4dae11f",
   "metadata": {},
   "outputs": [
    {
     "name": "stdout",
     "output_type": "stream",
     "text": [
      "{23: 67, 34: {34, 90, 78}, 67: 123, 45: 78, 'gopi': 'dict'}\n"
     ]
    }
   ],
   "source": [
    "d2.update({'gopi':'dict'})\n",
    "print(d2)"
   ]
  },
  {
   "cell_type": "markdown",
   "id": "72838661",
   "metadata": {},
   "source": [
    "### nodules and packages\n",
    "- module:module is nothing but .py file or no files it contains funtions\n",
    "  - module is a single or multiple files that can be reuse your code\n",
    "- package:collection of modules\n",
    "- it possible to put several modules in to a package\n",
    " modules are two types:\n",
    "- but in module ex:math functions\n",
    "- user defined modules"
   ]
  },
  {
   "cell_type": "code",
   "execution_count": 87,
   "id": "8a5d8bfe",
   "metadata": {},
   "outputs": [
    {
     "ename": "NameError",
     "evalue": "name 'math' is not defined",
     "output_type": "error",
     "traceback": [
      "\u001b[1;31m---------------------------------------------------------------------------\u001b[0m",
      "\u001b[1;31mNameError\u001b[0m                                 Traceback (most recent call last)",
      "\u001b[1;32m~\\AppData\\Local\\Temp/ipykernel_3676/2500976657.py\u001b[0m in \u001b[0;36m<module>\u001b[1;34m\u001b[0m\n\u001b[1;32m----> 1\u001b[1;33m \u001b[0mprint\u001b[0m\u001b[1;33m(\u001b[0m\u001b[0mdir\u001b[0m\u001b[1;33m(\u001b[0m\u001b[0mmath\u001b[0m\u001b[1;33m)\u001b[0m\u001b[1;33m,\u001b[0m\u001b[0mend\u001b[0m\u001b[1;33m=\u001b[0m\u001b[1;34m\" \"\u001b[0m\u001b[1;33m)\u001b[0m\u001b[1;33m\u001b[0m\u001b[1;33m\u001b[0m\u001b[0m\n\u001b[0m",
      "\u001b[1;31mNameError\u001b[0m: name 'math' is not defined"
     ]
    }
   ],
   "source": [
    "print(dir(math),end=\" \")"
   ]
  },
  {
   "cell_type": "code",
   "execution_count": 88,
   "id": "a6082ef6",
   "metadata": {},
   "outputs": [
    {
     "ename": "NameError",
     "evalue": "name 'p1' is not defined",
     "output_type": "error",
     "traceback": [
      "\u001b[1;31m---------------------------------------------------------------------------\u001b[0m",
      "\u001b[1;31mNameError\u001b[0m                                 Traceback (most recent call last)",
      "\u001b[1;32m~\\AppData\\Local\\Temp/ipykernel_3676/3719185986.py\u001b[0m in \u001b[0;36m<module>\u001b[1;34m\u001b[0m\n\u001b[1;32m----> 1\u001b[1;33m \u001b[0mprint\u001b[0m\u001b[1;33m(\u001b[0m\u001b[0mp1\u001b[0m\u001b[1;33m)\u001b[0m\u001b[1;33m\u001b[0m\u001b[1;33m\u001b[0m\u001b[0m\n\u001b[0m",
      "\u001b[1;31mNameError\u001b[0m: name 'p1' is not defined"
     ]
    }
   ],
   "source": [
    "print(p1)"
   ]
  },
  {
   "cell_type": "code",
   "execution_count": 89,
   "id": "90707eea",
   "metadata": {},
   "outputs": [],
   "source": [
    "from math import factorial,pi,remainder"
   ]
  },
  {
   "cell_type": "code",
   "execution_count": 90,
   "id": "d099eca5",
   "metadata": {},
   "outputs": [
    {
     "name": "stdout",
     "output_type": "stream",
     "text": [
      "3628800\n"
     ]
    }
   ],
   "source": [
    "print(factorial(10))\n",
    "\n"
   ]
  },
  {
   "cell_type": "code",
   "execution_count": 91,
   "id": "a5832899",
   "metadata": {},
   "outputs": [
    {
     "name": "stdout",
     "output_type": "stream",
     "text": [
      "3.141592653589793\n"
     ]
    }
   ],
   "source": [
    "print(pi)"
   ]
  },
  {
   "cell_type": "code",
   "execution_count": 92,
   "id": "88ce46ca",
   "metadata": {},
   "outputs": [],
   "source": [
    "from math import *"
   ]
  },
  {
   "cell_type": "code",
   "execution_count": 96,
   "id": "ae33a2ed",
   "metadata": {},
   "outputs": [
    {
     "name": "stdout",
     "output_type": "stream",
     "text": [
      "23\n"
     ]
    }
   ],
   "source": [
    "print(floor(23.76))"
   ]
  },
  {
   "cell_type": "code",
   "execution_count": 98,
   "id": "90efe2b3",
   "metadata": {},
   "outputs": [
    {
     "name": "stdout",
     "output_type": "stream",
     "text": [
      "28\n"
     ]
    }
   ],
   "source": [
    "print(ceil(27.9))"
   ]
  },
  {
   "cell_type": "code",
   "execution_count": 99,
   "id": "de4550ed",
   "metadata": {},
   "outputs": [
    {
     "name": "stdout",
     "output_type": "stream",
     "text": [
      "2.6457513110645907\n"
     ]
    }
   ],
   "source": [
    "print(sqrt(7))"
   ]
  },
  {
   "cell_type": "code",
   "execution_count": 100,
   "id": "3bcfe2d6",
   "metadata": {},
   "outputs": [
    {
     "name": "stdout",
     "output_type": "stream",
     "text": [
      "27\n"
     ]
    }
   ],
   "source": [
    "print(ceil(27.0))"
   ]
  },
  {
   "cell_type": "code",
   "execution_count": 101,
   "id": "b37ab0a0",
   "metadata": {},
   "outputs": [
    {
     "name": "stdout",
     "output_type": "stream",
     "text": [
      "0.5403023058681397\n"
     ]
    }
   ],
   "source": [
    "print(cos(1))"
   ]
  },
  {
   "cell_type": "code",
   "execution_count": 102,
   "id": "f1784e86",
   "metadata": {},
   "outputs": [
    {
     "name": "stdout",
     "output_type": "stream",
     "text": [
      "0.9092974268256817\n"
     ]
    }
   ],
   "source": [
    "print(sin(2))"
   ]
  },
  {
   "cell_type": "code",
   "execution_count": 103,
   "id": "0f302457",
   "metadata": {},
   "outputs": [
    {
     "name": "stdout",
     "output_type": "stream",
     "text": [
      "0.8509035245341184\n"
     ]
    }
   ],
   "source": [
    "print(sin(45))"
   ]
  },
  {
   "cell_type": "code",
   "execution_count": 104,
   "id": "1b21035d",
   "metadata": {},
   "outputs": [
    {
     "name": "stdout",
     "output_type": "stream",
     "text": [
      "0.0\n"
     ]
    }
   ],
   "source": [
    "print(sin(0))"
   ]
  },
  {
   "cell_type": "code",
   "execution_count": 105,
   "id": "8e3ab756",
   "metadata": {},
   "outputs": [
    {
     "name": "stdout",
     "output_type": "stream",
     "text": [
      "0.8939966636005579\n"
     ]
    }
   ],
   "source": [
    "print(sin(90))"
   ]
  },
  {
   "cell_type": "code",
   "execution_count": 109,
   "id": "ed5ab201",
   "metadata": {},
   "outputs": [
    {
     "name": "stdout",
     "output_type": "stream",
     "text": [
      "5\n"
     ]
    }
   ],
   "source": [
    "print(gcd(25,5))"
   ]
  },
  {
   "cell_type": "code",
   "execution_count": 110,
   "id": "a6eed4be",
   "metadata": {},
   "outputs": [
    {
     "name": "stdout",
     "output_type": "stream",
     "text": [
      "['BPF', 'LOG4', 'NV_MAGICCONST', 'RECIP_BPF', 'Random', 'SG_MAGICCONST', 'SystemRandom', 'TWOPI', '_Sequence', '_Set', '__all__', '__builtins__', '__cached__', '__doc__', '__file__', '__loader__', '__name__', '__package__', '__spec__', '_accumulate', '_acos', '_bisect', '_ceil', '_cos', '_e', '_exp', '_floor', '_inst', '_log', '_os', '_pi', '_random', '_repeat', '_sha512', '_sin', '_sqrt', '_test', '_test_generator', '_urandom', '_warn', 'betavariate', 'choice', 'choices', 'expovariate', 'gammavariate', 'gauss', 'getrandbits', 'getstate', 'lognormvariate', 'normalvariate', 'paretovariate', 'randbytes', 'randint', 'random', 'randrange', 'sample', 'seed', 'setstate', 'shuffle', 'triangular', 'uniform', 'vonmisesvariate', 'weibullvariate']\n"
     ]
    }
   ],
   "source": [
    "import random\n",
    "print(dir(random))"
   ]
  },
  {
   "cell_type": "code",
   "execution_count": 111,
   "id": "92ab2d8e",
   "metadata": {},
   "outputs": [],
   "source": [
    "from random import *"
   ]
  },
  {
   "cell_type": "code",
   "execution_count": 112,
   "id": "8de65415",
   "metadata": {},
   "outputs": [
    {
     "name": "stdout",
     "output_type": "stream",
     "text": [
      "0.19813043706664013\n"
     ]
    }
   ],
   "source": [
    "print(random())"
   ]
  },
  {
   "cell_type": "code",
   "execution_count": 113,
   "id": "edc01031",
   "metadata": {},
   "outputs": [
    {
     "name": "stdout",
     "output_type": "stream",
     "text": [
      "264\n"
     ]
    }
   ],
   "source": [
    "print(randint(111,999))"
   ]
  },
  {
   "cell_type": "code",
   "execution_count": 115,
   "id": "fee7a613",
   "metadata": {},
   "outputs": [
    {
     "name": "stdout",
     "output_type": "stream",
     "text": [
      "0.7749642960230357\n"
     ]
    }
   ],
   "source": [
    "print(random())"
   ]
  },
  {
   "cell_type": "code",
   "execution_count": 116,
   "id": "a910db2c",
   "metadata": {},
   "outputs": [
    {
     "name": "stdout",
     "output_type": "stream",
     "text": [
      "0.6882770291875177\n"
     ]
    }
   ],
   "source": [
    "print(random())# it givesw the value in between 0-"
   ]
  },
  {
   "cell_type": "code",
   "execution_count": 117,
   "id": "f835857e",
   "metadata": {},
   "outputs": [
    {
     "data": {
      "text/plain": [
       "56"
      ]
     },
     "execution_count": 117,
     "metadata": {},
     "output_type": "execute_result"
    }
   ],
   "source": [
    "import random\n",
    "random.randrange(0,100)"
   ]
  },
  {
   "cell_type": "code",
   "execution_count": 124,
   "id": "bd36182f",
   "metadata": {},
   "outputs": [
    {
     "name": "stdout",
     "output_type": "stream",
     "text": [
      "                                  2026\n",
      "\n",
      "      January                   February                   March\n",
      "Mo Tu We Th Fr Sa Su      Mo Tu We Th Fr Sa Su      Mo Tu We Th Fr Sa Su\n",
      "          1  2  3  4                         1                         1\n",
      " 5  6  7  8  9 10 11       2  3  4  5  6  7  8       2  3  4  5  6  7  8\n",
      "12 13 14 15 16 17 18       9 10 11 12 13 14 15       9 10 11 12 13 14 15\n",
      "19 20 21 22 23 24 25      16 17 18 19 20 21 22      16 17 18 19 20 21 22\n",
      "26 27 28 29 30 31         23 24 25 26 27 28         23 24 25 26 27 28 29\n",
      "                                                    30 31\n",
      "\n",
      "       April                      May                       June\n",
      "Mo Tu We Th Fr Sa Su      Mo Tu We Th Fr Sa Su      Mo Tu We Th Fr Sa Su\n",
      "       1  2  3  4  5                   1  2  3       1  2  3  4  5  6  7\n",
      " 6  7  8  9 10 11 12       4  5  6  7  8  9 10       8  9 10 11 12 13 14\n",
      "13 14 15 16 17 18 19      11 12 13 14 15 16 17      15 16 17 18 19 20 21\n",
      "20 21 22 23 24 25 26      18 19 20 21 22 23 24      22 23 24 25 26 27 28\n",
      "27 28 29 30               25 26 27 28 29 30 31      29 30\n",
      "\n",
      "        July                     August                  September\n",
      "Mo Tu We Th Fr Sa Su      Mo Tu We Th Fr Sa Su      Mo Tu We Th Fr Sa Su\n",
      "       1  2  3  4  5                      1  2          1  2  3  4  5  6\n",
      " 6  7  8  9 10 11 12       3  4  5  6  7  8  9       7  8  9 10 11 12 13\n",
      "13 14 15 16 17 18 19      10 11 12 13 14 15 16      14 15 16 17 18 19 20\n",
      "20 21 22 23 24 25 26      17 18 19 20 21 22 23      21 22 23 24 25 26 27\n",
      "27 28 29 30 31            24 25 26 27 28 29 30      28 29 30\n",
      "                          31\n",
      "\n",
      "      October                   November                  December\n",
      "Mo Tu We Th Fr Sa Su      Mo Tu We Th Fr Sa Su      Mo Tu We Th Fr Sa Su\n",
      "          1  2  3  4                         1          1  2  3  4  5  6\n",
      " 5  6  7  8  9 10 11       2  3  4  5  6  7  8       7  8  9 10 11 12 13\n",
      "12 13 14 15 16 17 18       9 10 11 12 13 14 15      14 15 16 17 18 19 20\n",
      "19 20 21 22 23 24 25      16 17 18 19 20 21 22      21 22 23 24 25 26 27\n",
      "26 27 28 29 30 31         23 24 25 26 27 28 29      28 29 30 31\n",
      "                          30\n",
      "\n"
     ]
    }
   ],
   "source": [
    "import calendar\n",
    "print(calendar.calendar(2022\n",
    "                       ))\n"
   ]
  },
  {
   "cell_type": "code",
   "execution_count": 125,
   "id": "10248331",
   "metadata": {},
   "outputs": [
    {
     "name": "stdout",
     "output_type": "stream",
     "text": [
      "True\n"
     ]
    }
   ],
   "source": [
    "print(calendar.isleap(2020))"
   ]
  },
  {
   "cell_type": "code",
   "execution_count": 126,
   "id": "9652b12e",
   "metadata": {},
   "outputs": [
    {
     "name": "stdout",
     "output_type": "stream",
     "text": [
      "False\n"
     ]
    }
   ],
   "source": [
    "print(calendar.isleap(2022))"
   ]
  },
  {
   "cell_type": "code",
   "execution_count": 127,
   "id": "2da2218b",
   "metadata": {},
   "outputs": [],
   "source": [
    "import calc"
   ]
  },
  {
   "cell_type": "code",
   "execution_count": 128,
   "id": "281ec301",
   "metadata": {},
   "outputs": [
    {
     "data": {
      "text/plain": [
       "['__builtins__',\n",
       " '__cached__',\n",
       " '__doc__',\n",
       " '__file__',\n",
       " '__loader__',\n",
       " '__name__',\n",
       " '__package__',\n",
       " '__spec__',\n",
       " 'add',\n",
       " 'div',\n",
       " 'mul',\n",
       " 'sub']"
      ]
     },
     "execution_count": 128,
     "metadata": {},
     "output_type": "execute_result"
    }
   ],
   "source": [
    "dir(calc)"
   ]
  },
  {
   "cell_type": "code",
   "execution_count": 129,
   "id": "8b71d929",
   "metadata": {},
   "outputs": [
    {
     "data": {
      "text/plain": [
       "70"
      ]
     },
     "execution_count": 129,
     "metadata": {},
     "output_type": "execute_result"
    }
   ],
   "source": [
    "calc.add(30,40)"
   ]
  },
  {
   "cell_type": "code",
   "execution_count": 130,
   "id": "c74a3346",
   "metadata": {},
   "outputs": [
    {
     "data": {
      "text/plain": [
       "30"
      ]
     },
     "execution_count": 130,
     "metadata": {},
     "output_type": "execute_result"
    }
   ],
   "source": [
    "calc.sub(50,20)"
   ]
  },
  {
   "cell_type": "code",
   "execution_count": 131,
   "id": "698d2442",
   "metadata": {},
   "outputs": [
    {
     "data": {
      "text/plain": [
       "400"
      ]
     },
     "execution_count": 131,
     "metadata": {},
     "output_type": "execute_result"
    }
   ],
   "source": [
    "calc.mul(80,5)"
   ]
  },
  {
   "cell_type": "code",
   "execution_count": 132,
   "id": "7f167c04",
   "metadata": {},
   "outputs": [
    {
     "data": {
      "text/plain": [
       "16.0"
      ]
     },
     "execution_count": 132,
     "metadata": {},
     "output_type": "execute_result"
    }
   ],
   "source": [
    "calc.div(80,5)"
   ]
  },
  {
   "cell_type": "code",
   "execution_count": 133,
   "id": "89be3e8f",
   "metadata": {},
   "outputs": [],
   "source": [
    "from calc import add\n",
    "\n"
   ]
  },
  {
   "cell_type": "code",
   "execution_count": 134,
   "id": "e45883dc",
   "metadata": {},
   "outputs": [
    {
     "data": {
      "text/plain": [
       "50"
      ]
     },
     "execution_count": 134,
     "metadata": {},
     "output_type": "execute_result"
    }
   ],
   "source": [
    "add(20,30)"
   ]
  },
  {
   "cell_type": "code",
   "execution_count": 136,
   "id": "3806cfbe",
   "metadata": {},
   "outputs": [
    {
     "ename": "NameError",
     "evalue": "name 'sub' is not defined",
     "output_type": "error",
     "traceback": [
      "\u001b[1;31m---------------------------------------------------------------------------\u001b[0m",
      "\u001b[1;31mNameError\u001b[0m                                 Traceback (most recent call last)",
      "\u001b[1;32m~\\AppData\\Local\\Temp/ipykernel_3676/809108162.py\u001b[0m in \u001b[0;36m<module>\u001b[1;34m\u001b[0m\n\u001b[1;32m----> 1\u001b[1;33m \u001b[0msub\u001b[0m\u001b[1;33m(\u001b[0m\u001b[1;36m50\u001b[0m\u001b[1;33m,\u001b[0m\u001b[1;36m12\u001b[0m\u001b[1;33m)\u001b[0m\u001b[1;33m\u001b[0m\u001b[1;33m\u001b[0m\u001b[0m\n\u001b[0m",
      "\u001b[1;31mNameError\u001b[0m: name 'sub' is not defined"
     ]
    }
   ],
   "source": [
    "sub(50,12)"
   ]
  },
  {
   "cell_type": "code",
   "execution_count": 137,
   "id": "a3a640d8",
   "metadata": {},
   "outputs": [],
   "source": [
    "from calc import add as a"
   ]
  },
  {
   "cell_type": "code",
   "execution_count": 1,
   "id": "492df527",
   "metadata": {},
   "outputs": [
    {
     "ename": "NameError",
     "evalue": "name 'a' is not defined",
     "output_type": "error",
     "traceback": [
      "\u001b[1;31m---------------------------------------------------------------------------\u001b[0m",
      "\u001b[1;31mNameError\u001b[0m                                 Traceback (most recent call last)",
      "\u001b[1;32m~\\AppData\\Local\\Temp/ipykernel_5624/943800209.py\u001b[0m in \u001b[0;36m<module>\u001b[1;34m\u001b[0m\n\u001b[1;32m----> 1\u001b[1;33m \u001b[1;32mimport\u001b[0m \u001b[0meven\u001b[0m\u001b[1;33m\u001b[0m\u001b[1;33m\u001b[0m\u001b[0m\n\u001b[0m",
      "\u001b[1;32m~\\Desktop\\even.py\u001b[0m in \u001b[0;36m<module>\u001b[1;34m\u001b[0m\n\u001b[0;32m      4\u001b[0m     \u001b[1;32melse\u001b[0m\u001b[1;33m:\u001b[0m\u001b[1;33m\u001b[0m\u001b[1;33m\u001b[0m\u001b[0m\n\u001b[0;32m      5\u001b[0m         \u001b[0mprint\u001b[0m\u001b[1;33m(\u001b[0m\u001b[1;34m\"odd\"\u001b[0m\u001b[1;33m)\u001b[0m\u001b[1;33m\u001b[0m\u001b[1;33m\u001b[0m\u001b[0m\n\u001b[1;32m----> 6\u001b[1;33m \u001b[0mnum\u001b[0m\u001b[1;33m(\u001b[0m\u001b[0ma\u001b[0m\u001b[1;33m)\u001b[0m\u001b[1;33m\u001b[0m\u001b[1;33m\u001b[0m\u001b[0m\n\u001b[0m",
      "\u001b[1;31mNameError\u001b[0m: name 'a' is not defined"
     ]
    }
   ],
   "source": [
    "import even"
   ]
  },
  {
   "cell_type": "code",
   "execution_count": 2,
   "id": "13acfb3b",
   "metadata": {},
   "outputs": [
    {
     "name": "stdout",
     "output_type": "stream",
     "text": [
      "enter a value:22\n",
      "even 22\n"
     ]
    }
   ],
   "source": [
    "import even"
   ]
  },
  {
   "cell_type": "markdown",
   "id": "a95eb476",
   "metadata": {},
   "source": [
    "### regular expressions\n",
    "- A regular expression is a sequance of a character that defines a search patterns\n",
    "- we have to built in module in python work to with regular expressions:represented re\n",
    "- we have to import that module in to our python file by using re\n",
    "- syntax::re.regex function('pattern'.'input')\n",
    "- 3 methods\n",
    "   - 1.findsall()\n",
    "         - it returns a list containing all matches(or) this module is used tio serach for all occureance that match a given(find all the diplicates for a specified pattern\n",
    "   - 2.search()\n",
    "          - to test the specified pattren is present or not in tyhe given stringf\n",
    "   - 3.match()\n",
    "         - the text the i/p string with specified pattern or not"
   ]
  },
  {
   "cell_type": "code",
   "execution_count": 3,
   "id": "e2914e95",
   "metadata": {},
   "outputs": [
    {
     "name": "stdout",
     "output_type": "stream",
     "text": [
      "['ai', 'ai']\n"
     ]
    }
   ],
   "source": [
    "import re\n",
    "n='the rain in spain'\n",
    "z=re.findall('ai',n)\n",
    "print(z)"
   ]
  },
  {
   "cell_type": "code",
   "execution_count": 4,
   "id": "4669ea47",
   "metadata": {},
   "outputs": [
    {
     "name": "stdout",
     "output_type": "stream",
     "text": [
      "['in', 'in', 'in']\n"
     ]
    }
   ],
   "source": [
    "import re\n",
    "n='the rain in spain'\n",
    "z=re.findall('in',n)\n",
    "print(z)"
   ]
  },
  {
   "cell_type": "code",
   "execution_count": 5,
   "id": "980917f3",
   "metadata": {},
   "outputs": [
    {
     "data": {
      "text/plain": [
       "<re.Match object; span=(0, 1), match='p'>"
      ]
     },
     "execution_count": 5,
     "metadata": {},
     "output_type": "execute_result"
    }
   ],
   "source": [
    "# search\n",
    "re.search('p','pythonworkshop')"
   ]
  },
  {
   "cell_type": "code",
   "execution_count": 6,
   "id": "99d57e05",
   "metadata": {},
   "outputs": [
    {
     "data": {
      "text/plain": [
       "['p', 'p']"
      ]
     },
     "execution_count": 6,
     "metadata": {},
     "output_type": "execute_result"
    }
   ],
   "source": [
    "re.findall('p','pythonworkshop')"
   ]
  },
  {
   "cell_type": "code",
   "execution_count": 7,
   "id": "f12e0afa",
   "metadata": {},
   "outputs": [
    {
     "data": {
      "text/plain": [
       "[]"
      ]
     },
     "execution_count": 7,
     "metadata": {},
     "output_type": "execute_result"
    }
   ],
   "source": [
    "re.findall('z','pythonworkshop')"
   ]
  },
  {
   "cell_type": "code",
   "execution_count": 8,
   "id": "2fd85301",
   "metadata": {},
   "outputs": [
    {
     "data": {
      "text/plain": [
       "<re.Match object; span=(0, 1), match='p'>"
      ]
     },
     "execution_count": 8,
     "metadata": {},
     "output_type": "execute_result"
    }
   ],
   "source": [
    "re.match('p','python')"
   ]
  },
  {
   "cell_type": "code",
   "execution_count": 9,
   "id": "0957f90c",
   "metadata": {},
   "outputs": [],
   "source": [
    "re.match('on','python')"
   ]
  },
  {
   "cell_type": "code",
   "execution_count": null,
   "id": "66f5650a",
   "metadata": {},
   "outputs": [],
   "source": []
  }
 ],
 "metadata": {
  "kernelspec": {
   "display_name": "Python 3 (ipykernel)",
   "language": "python",
   "name": "python3"
  },
  "language_info": {
   "codemirror_mode": {
    "name": "ipython",
    "version": 3
   },
   "file_extension": ".py",
   "mimetype": "text/x-python",
   "name": "python",
   "nbconvert_exporter": "python",
   "pygments_lexer": "ipython3",
   "version": "3.9.7"
  }
 },
 "nbformat": 4,
 "nbformat_minor": 5
}
